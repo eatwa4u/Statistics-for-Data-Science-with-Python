{
 "cells": [
  {
   "cell_type": "code",
   "execution_count": null,
   "metadata": {},
   "outputs": [],
   "source": [
    "import piplite\n",
    "await piplite.install(['numpy'],['pandas'])\n",
    "await piplite.install(['seaborn'])"
   ]
  },
  {
   "cell_type": "code",
   "execution_count": null,
   "metadata": {},
   "outputs": [],
   "source": [
    "import pandas as pd\n",
    "import pandas as pd\n",
    "import seaborn as sns\n",
    "import matplotlib.pyplot as plt\n",
    "import scipy.stats\n",
    "import statsmodels.api as sm\n",
    "from statsmodels.formula.api import ols\n",
    "\n",
    "# Import necessary libraries\n",
    "import numpy as np"
   ]
  },
  {
   "cell_type": "code",
   "execution_count": null,
   "metadata": {},
   "outputs": [],
   "source": [
    "from js import fetch\n",
    "import io\n",
    "\n",
    "URL = 'https://cf-courses-data.s3.us.cloud-object-storage.appdomain.cloud/IBMDeveloperSkillsNetwork-ST0151EN-SkillsNetwork/labs/boston_housing.csv'\n",
    "resp = await fetch(URL)\n",
    "boston_url = io.BytesIO((await resp.arrayBuffer()).to_py())"
   ]
  },
  {
   "cell_type": "code",
   "execution_count": null,
   "metadata": {},
   "outputs": [],
   "source": [
    "boston_df=pd.read_csv(boston_url)"
   ]
  },
  {
   "cell_type": "code",
   "execution_count": null,
   "metadata": {},
   "outputs": [],
   "source": [
    "boston_df.info()"
   ]
  },
  {
   "cell_type": "code",
   "execution_count": null,
   "metadata": {},
   "outputs": [],
   "source": [
    "print(boston_df)"
   ]
  },
  {
   "cell_type": "code",
   "execution_count": null,
   "metadata": {},
   "outputs": [],
   "source": [
    "boston_df"
   ]
  },
  {
   "cell_type": "code",
   "execution_count": null,
   "metadata": {},
   "outputs": [],
   "source": [
    "# Task 1: Boxplot for Median Value of Owner-Occupied Homes (MEDV)\n",
    "plt.figure(figsize=(8, 6))\n",
    "sns.boxplot(boston_df=boston_df, y='MEDV', color='skyblue')\n",
    "plt.title('Boxplot of Median Value of Owner-Occupied Homes (MEDV)', fontsize=14)\n",
    "plt.ylabel('Median Value ($1000\\'s)', fontsize=12)\n",
    "plt.show()\n",
    "\n",
    "# Task 2: Bar Plot for Charles River Variable (CHAS)\n",
    "plt.figure(figsize=(8, 6))\n",
    "sns.countplot(boston_df=boston_df, x='CHAS', palette='viridis')\n",
    "plt.title('Bar Plot for Charles River Variable', fontsize=14)\n",
    "plt.xlabel('Charles River (1 = Yes, 0 = No)', fontsize=12)\n",
    "plt.ylabel('Count', fontsize=12)\n",
    "plt.show()\n",
    "\n",
    "# Task 3: Boxplot of MEDV vs Discretized AGE\n",
    "# Discretize AGE into 3 groups\n",
    "bins = [0, 35, 70, 100]\n",
    "labels = ['35 years and younger', 'Between 35 and 70 years', '70 years and older']\n",
    "data['AGE_Group'] = pd.cut(data['AGE'], bins=bins, labels=labels)\n",
    "\n",
    "plt.figure(figsize=(8, 6))\n",
    "sns.boxplot(boston_df=boston_df, x='AGE_Group', y='MEDV', palette='coolwarm')\n",
    "plt.title('Boxplot of MEDV by Age Groups', fontsize=14)\n",
    "plt.xlabel('Age Group', fontsize=12)\n",
    "plt.ylabel('Median Value ($1000\\'s)', fontsize=12)\n",
    "plt.show()\n",
    "\n",
    "# Task 4: Scatter Plot of NOX vs INDUS\n",
    "plt.figure(figsize=(8, 6))\n",
    "sns.scatterplot(boston_df=boston_df, x='INDUS', y='NOX', color='purple')\n",
    "plt.title('Scatter Plot of NOX vs INDUS', fontsize=14)\n",
    "plt.xlabel('Proportion of Non-Retail Business Acres (INDUS)', fontsize=12)\n",
    "plt.ylabel('Nitric Oxide Concentrations (NOX)', fontsize=12)\n",
    "plt.show()\n",
    "\n",
    "# Task 5: Histogram for Pupil-to-Teacher Ratio (PTRATIO)\n",
    "plt.figure(figsize=(8, 6))\n",
    "sns.histplot(boston_df=boston_df, x='PTRATIO', kde=True, color='green', bins=15)\n",
    "plt.title('Histogram of Pupil-to-Teacher Ratio', fontsize=14)\n",
    "plt.xlabel('Pupil-to-Teacher Ratio', fontsize=12)\n",
    "plt.ylabel('Frequency', fontsize=12)\n",
    "plt.show()"
   ]
  },
  {
   "cell_type": "code",
   "execution_count": null,
   "metadata": {},
   "outputs": [],
   "source": [
    "# Question: Is there a significant difference in the median value of houses bounded by the Charles river or not?\n",
    "# 1. T-test for Independent Samples:\n",
    "# Null Hypothesis (H₀): There is no significant difference in the median value of houses based on whether they are bounded by the Charles River or not.\n",
    "# Alternative Hypothesis (H₁): There is a significant difference in the median value of houses based on whether they are bounded by the Charles River.\n",
    "\n",
    "from scipy.stats import ttest_ind\n",
    "\n",
    "# Group data by CHAS (Charles River)\n",
    "chas_0 = boston_df[boston_df['CHAS'] == 0]['MEDV']\n",
    "chas_1 = boston_df[boston_df['CHAS'] == 1]['MEDV']\n",
    "\n",
    "# Perform an independent samples t-test\n",
    "t_stat, p_value = ttest_ind(chas_0, chas_1)\n",
    "\n",
    "print(f\"T-statistic: {t_stat}, P-value: {p_value}\")\n",
    "\n",
    "# Conclusion\n",
    "if p_value < 0.05:\n",
    "    print(\"Reject the null hypothesis: There is a significant difference in median value of houses.\")\n",
    "else:\n",
    "    print(\"Fail to reject the null hypothesis: No significant difference in median value of houses.\")"
   ]
  },
  {
   "cell_type": "code",
   "execution_count": null,
   "metadata": {},
   "outputs": [],
   "source": [
    "# Question: Is there a difference in Median values of houses (MEDV) for each proportion of owner-occupied units built prior to 1940 (AGE)?\n",
    "# 2. ANOVA Test:\n",
    "# Null Hypothesis (H₀): The mean MEDV is the same across all age groups.\n",
    "# Alternative Hypothesis (H₁): At least one group has a different mean MEDV.\n",
    "\n",
    "from scipy.stats import f_oneway\n",
    "\n",
    "# Create age groups\n",
    "data['AGE_Group'] = pd.cut(data['AGE'], bins=[0, 35, 70, 100], labels=['0-35', '35-70', '70+'])\n",
    "\n",
    "# Group data by AGE_Group\n",
    "age_group_1 = boston_df[boston_df['AGE_Group'] == '0-35']['MEDV']\n",
    "age_group_2 = boston_df[boston_df['AGE_Group'] == '35-70']['MEDV']\n",
    "age_group_3 = boston_df[boston_df['AGE_Group'] == '70+']['MEDV']\n",
    "\n",
    "# Perform ANOVA\n",
    "f_stat, p_value = f_oneway(age_group_1, age_group_2, age_group_3)\n",
    "\n",
    "print(f\"F-statistic: {f_stat}, P-value: {p_value}\")\n",
    "\n",
    "# Conclusion\n",
    "if p_value < 0.05:\n",
    "    print(\"Reject the null hypothesis: There is a difference in median values of houses across age groups.\")\n",
    "else:\n",
    "    print(\"Fail to reject the null hypothesis: No significant difference in median values across age groups.\")"
   ]
  },
  {
   "cell_type": "code",
   "execution_count": null,
   "metadata": {},
   "outputs": [],
   "source": [
    "#Question: Can we conclude that there is no relationship between Nitric oxide concentrations and the proportion of non-retail business acres per town?\n",
    "#3. Pearson Correlation:\n",
    "#Null Hypothesis (H₀): There is no correlation between NOX (Nitric oxide concentration) and INDUS (proportion of non-retail business acres).\n",
    "#Alternative Hypothesis (H₁): There is a correlation between NOX and INDUS.\n",
    "\n",
    "from scipy.stats import pearsonr\n",
    "\n",
    "# Calculate Pearson correlation\n",
    "corr, p_value = pearsonr(boston_df['NOX'], data['INDUS'])\n",
    "\n",
    "print(f\"Correlation coefficient: {corr}, P-value: {p_value}\")\n",
    "\n",
    "# Conclusion\n",
    "if p_value < 0.05:\n",
    "    print(\"Reject the null hypothesis: There is a significant correlation between NOX and INDUS.\")\n",
    "else:\n",
    "    print(\"Fail to reject the null hypothesis: No significant correlation between NOX and INDUS.\")"
   ]
  },
  {
   "cell_type": "code",
   "execution_count": null,
   "metadata": {},
   "outputs": [],
   "source": [
    "#Question: What is the impact of an additional weighted distance to the five Boston employment centres (DIS) on the median value of owner-occupied homes?\n",
    "#4. Regression Analysis:\n",
    "\n",
    "#Null Hypothesis (H₀): The weighted distance to employment centers has no impact on the median value of homes.\n",
    "#Alternative Hypothesis (H₁): The weighted distance to employment centers has an impact on the median value of homes.\n",
    "\n",
    "import statsmodels.api as sm\n",
    "\n",
    "# Define the independent variable (DIS) and dependent variable (MEDV)\n",
    "X = boston_df['DIS']\n",
    "y = boston_df['MEDV']\n",
    "\n",
    "# Add a constant to the model\n",
    "X = sm.add_constant(X)\n",
    "\n",
    "# Fit the regression model\n",
    "model = sm.OLS(y, X).fit()\n",
    "\n",
    "# Print the summary\n",
    "print(model.summary())\n",
    "\n",
    "# Extract the p-value for DIS\n",
    "p_value = model.pvalues['DIS']\n",
    "coef = model.params['DIS']\n",
    "\n",
    "# Conclusion\n",
    "if p_value < 0.05:\n",
    "    print(f\"Reject the null hypothesis: DIS has a significant impact on MEDV. Coefficient: {coef}\")\n",
    "else:\n",
    "    print(f\"Fail to reject the null hypothesis: DIS has no significant impact on MEDV. Coefficient: {coef}\")\n"
   ]
  },
  {
   "cell_type": "code",
   "execution_count": null,
   "metadata": {},
   "outputs": [],
   "source": [
    "#Expected Output:\n",
    "#T-test: Displays whether houses bounded by the Charles River have significantly different median values.\n",
    "#ANOVA Test: Indicates if median values differ significantly across age groups.\n",
    "#Pearson Correlation: Shows the correlation coefficient and whether there is a significant relationship between NOX and INDUS.\n",
    "#Regression Analysis: Provides the regression coefficient, p-value, and whether DIS significantly affects MEDV."
   ]
  },
  {
   "cell_type": "code",
   "execution_count": null,
   "metadata": {},
   "outputs": [],
   "source": []
  },
  {
   "cell_type": "code",
   "execution_count": null,
   "metadata": {},
   "outputs": [],
   "source": []
  },
  {
   "cell_type": "code",
   "execution_count": null,
   "metadata": {},
   "outputs": [],
   "source": []
  },
  {
   "cell_type": "code",
   "execution_count": null,
   "metadata": {},
   "outputs": [],
   "source": []
  },
  {
   "cell_type": "code",
   "execution_count": null,
   "metadata": {},
   "outputs": [],
   "source": []
  },
  {
   "cell_type": "code",
   "execution_count": null,
   "metadata": {},
   "outputs": [],
   "source": []
  }
 ],
 "metadata": {
  "kernelspec": {
   "display_name": "Python 3 (ipykernel)",
   "language": "python",
   "name": "python3"
  },
  "language_info": {
   "codemirror_mode": {
    "name": "ipython",
    "version": 3
   },
   "file_extension": ".py",
   "mimetype": "text/x-python",
   "name": "python",
   "nbconvert_exporter": "python",
   "pygments_lexer": "ipython3",
   "version": "3.12.4"
  },
  "prev_pub_hash": "e8217a69c6d5ee68d06c806e939831533d260fbfc123f81d52c578e9136390dd"
 },
 "nbformat": 4,
 "nbformat_minor": 4
}
